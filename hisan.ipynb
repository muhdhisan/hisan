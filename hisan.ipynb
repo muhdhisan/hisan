{
  "nbformat": 4,
  "nbformat_minor": 0,
  "metadata": {
    "colab": {
      "provenance": []
    },
    "kernelspec": {
      "name": "python3",
      "display_name": "Python 3"
    },
    "language_info": {
      "name": "python"
    }
  },
  "cells": [
    {
      "cell_type": "code",
      "execution_count": 1,
      "metadata": {
        "colab": {
          "base_uri": "https://localhost:8080/"
        },
        "id": "wipcZspam8s7",
        "outputId": "523a8577-335d-4650-9f01-47a060c4d0a3"
      },
      "outputs": [
        {
          "output_type": "stream",
          "name": "stdout",
          "text": [
            "The area of the circle with the radius 8 is: 201.06192982974676\n"
          ]
        }
      ],
      "source": [
        "'''Write a Python program to find the area of a circle with a given radius using the formula area = pi * r ** 2. Assume that pi is 3.14.'''\n",
        "\n",
        "import math\n",
        "r=8\n",
        "area=math.pi*r**2\n",
        "print(\"The area of the circle with the radius\",r,\"is:\",area)"
      ]
    },
    {
      "cell_type": "code",
      "source": [
        "'''Write a Python program to convert Celsius to Fahrenheit using the formula F = (C * 9/5) + 32'''\n",
        "\n",
        "c=float(input(\"Enter the celsius:\"))\n",
        "f = (c * 9/5) + 32\n",
        "print(\"The temperature in Fahrenheit is:\", f)"
      ],
      "metadata": {
        "colab": {
          "base_uri": "https://localhost:8080/"
        },
        "id": "1-dP13vXnhGh",
        "outputId": "c7091148-3f2e-4d09-d078-acea1586cbef"
      },
      "execution_count": 2,
      "outputs": [
        {
          "output_type": "stream",
          "name": "stdout",
          "text": [
            "Enter the celsius:35\n",
            "The temperature in Fahrenheit is: 95.0\n"
          ]
        }
      ]
    },
    {
      "cell_type": "code",
      "source": [
        "'''Write a Python program to find the quotient and remainder of two numbers using the division operator / and the modulo operator %.'''\n",
        "\n",
        "a=int(input(\"Enter the first number:\"))\n",
        "b=int(input(\"Enter the second number:\"))\n",
        "quo=a/b\n",
        "rem=a%b\n",
        "print(\"The quotient of\",a,\"and\",b,\"is:\",quo)\n",
        "print(\"The remainder of\",a,\"and\",b,\"is:\",rem)"
      ],
      "metadata": {
        "colab": {
          "base_uri": "https://localhost:8080/"
        },
        "id": "izgZs-NBnvHZ",
        "outputId": "2bc29024-3824-47cd-a6ee-98586933c010"
      },
      "execution_count": 3,
      "outputs": [
        {
          "output_type": "stream",
          "name": "stdout",
          "text": [
            "Enter the first number:4\n",
            "Enter the second number:5\n",
            "The quotient of 4 and 5 is: 0.8\n",
            "The remainder of 4 and 5 is: 4\n"
          ]
        }
      ]
    },
    {
      "cell_type": "code",
      "source": [
        "'''Write a python program to check whether a given number is even or odd using the modulo operator %'''\n",
        "\n",
        "a=int(input(\"Enter the number:\"))\n",
        "if a%2==0:\n",
        "  print(\"It is even\")\n",
        "else:\n",
        "  print(\"It is odd\")\n"
      ],
      "metadata": {
        "colab": {
          "base_uri": "https://localhost:8080/"
        },
        "id": "Afp6_LrUn2fx",
        "outputId": "864e30de-6d9e-4e2b-9cb9-4d626b26ca18"
      },
      "execution_count": 5,
      "outputs": [
        {
          "output_type": "stream",
          "name": "stdout",
          "text": [
            "Enter the number:5\n",
            "It is odd\n"
          ]
        }
      ]
    },
    {
      "cell_type": "code",
      "source": [
        "'''Write a Python program to calculate the average of three numbers entered by the user.'''\n",
        "\n",
        "a=int(input(\"Enter the first number:\"))\n",
        "b=int(input(\"Enter the second number:\"))\n",
        "c=int(input(\"Enter the third number:\"))\n",
        "avg=(a+b+c)/3\n",
        "print(\"The average of\",a,b,\"and\",c,\"is:\",avg)\n"
      ],
      "metadata": {
        "colab": {
          "base_uri": "https://localhost:8080/"
        },
        "id": "zoJgsIKhn7fu",
        "outputId": "a86dc9ae-3a4b-486e-92be-7815be2a9d05"
      },
      "execution_count": 6,
      "outputs": [
        {
          "output_type": "stream",
          "name": "stdout",
          "text": [
            "Enter the first number:45\n",
            "Enter the second number:23\n",
            "Enter the third number:87\n",
            "The average of 45 23 and 87 is: 51.666666666666664\n"
          ]
        }
      ]
    },
    {
      "cell_type": "code",
      "source": [
        "'''Write a program to swap two variables without using a temporary variable'''\n",
        "\n",
        "a=6\n",
        "b=6\n",
        "a=a+b\n",
        "b=a-b\n",
        "a=a-b\n",
        "print(\"The value of a is now =\", a)\n",
        "print(\"The value of b is now =\", b)"
      ],
      "metadata": {
        "colab": {
          "base_uri": "https://localhost:8080/"
        },
        "id": "CL8__5tZoBK-",
        "outputId": "25f4fba6-9f4c-4232-9902-56017233816f"
      },
      "execution_count": 7,
      "outputs": [
        {
          "output_type": "stream",
          "name": "stdout",
          "text": [
            "The value of a is now = 6\n",
            "The value of b is now = 6\n"
          ]
        }
      ]
    },
    {
      "cell_type": "code",
      "source": [
        "'''Write a Python program to calculate the area of a rectangle with given length and breadth.'''\n",
        "\n",
        "l=90\n",
        "b=82\n",
        "area=l*b\n",
        "print(\"The area of the rectangle is:\",area)"
      ],
      "metadata": {
        "colab": {
          "base_uri": "https://localhost:8080/"
        },
        "id": "QVXFJnycoHcQ",
        "outputId": "f5e17f0a-2856-46e5-d4a2-7fb601db4250"
      },
      "execution_count": 8,
      "outputs": [
        {
          "output_type": "stream",
          "name": "stdout",
          "text": [
            "The area of the rectangle is: 7380\n"
          ]
        }
      ]
    },
    {
      "cell_type": "code",
      "source": [
        "'''Write a Python program to calculate the sum of the digits of a three-digit number'''\n",
        "\n",
        "n=int(input(\"Enter a three-digit number:\"))\n",
        "if 99<n<1000:\n",
        "  sod=n % 10 + (n // 10) % 10 + n // 100\n",
        "  print(\"The sum of the digits is:\",sod)\n",
        "else:\n",
        "  print(\"The number must be a three-digit number.\")"
      ],
      "metadata": {
        "colab": {
          "base_uri": "https://localhost:8080/"
        },
        "id": "-CrtIXjzoPwu",
        "outputId": "248891a7-5f5a-44b5-8afd-ff7028512cd6"
      },
      "execution_count": 9,
      "outputs": [
        {
          "output_type": "stream",
          "name": "stdout",
          "text": [
            "Enter a three-digit number:456\n",
            "The sum of the digits is: 15\n"
          ]
        }
      ]
    },
    {
      "cell_type": "code",
      "source": [
        "'''Write a Python program to check whether a given year is a leap year or not.'''\n",
        "\n",
        "yr=int(input(\"Enter a year:\"))\n",
        "if yr%4==0 and yr%100 !=0 or yr%400==0:\n",
        "  print(yr,\"is a leap year\")\n",
        "else:\n",
        "  print(yr,\"is not a leap year\")"
      ],
      "metadata": {
        "colab": {
          "base_uri": "https://localhost:8080/"
        },
        "id": "0YBrpLD8oULE",
        "outputId": "c964c8d5-0d20-4666-df39-68f4d9d4f105"
      },
      "execution_count": 10,
      "outputs": [
        {
          "output_type": "stream",
          "name": "stdout",
          "text": [
            "Enter a year:2025\n",
            "2025 is not a leap year\n"
          ]
        }
      ]
    },
    {
      "cell_type": "code",
      "source": [
        "'''Write a Python program to find the maximum and minimum of two numbers entered by the user.'''\n",
        "\n",
        "import math\n",
        "a=int(input(\"Enter the first number:\"))\n",
        "b=int(input(\"Enter the second number:\"))\n",
        "if a>b:\n",
        "  max=a\n",
        "  min=b\n",
        "else:\n",
        "  max=b\n",
        "  min=a\n",
        "print(\"The maximum of\",a,\"and\",b,\"is:\",max)\n",
        "print(\"The minimum of\",a,\"and\",b,\"is:\",min)"
      ],
      "metadata": {
        "colab": {
          "base_uri": "https://localhost:8080/"
        },
        "id": "sV9FybV_oZbG",
        "outputId": "f25e0b60-c5eb-4e3d-b137-b44ef2a9744a"
      },
      "execution_count": 12,
      "outputs": [
        {
          "output_type": "stream",
          "name": "stdout",
          "text": [
            "Enter the first number:98\n",
            "Enter the second number:67\n",
            "The maximum of 98 and 67 is: 98\n",
            "The minimum of 98 and 67 is: 67\n"
          ]
        }
      ]
    },
    {
      "cell_type": "code",
      "source": [],
      "metadata": {
        "id": "vaECPi-6ofGI"
      },
      "execution_count": null,
      "outputs": []
    }
  ]
}